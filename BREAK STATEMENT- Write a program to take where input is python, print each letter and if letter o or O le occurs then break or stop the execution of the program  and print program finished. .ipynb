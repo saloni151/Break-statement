{
 "cells": [
  {
   "cell_type": "code",
   "execution_count": 1,
   "id": "3eef0dba",
   "metadata": {},
   "outputs": [
    {
     "data": {
      "text/plain": [
       "' write a program to take where input is python, print each letter and if letter o or O letter occurs then break or stop the execution of the program  and print program finished. '"
      ]
     },
     "execution_count": 1,
     "metadata": {},
     "output_type": "execute_result"
    }
   ],
   "source": [
    "\"\"\" write a program to take where input is python, print each letter and if letter o or O le occurs then break or stop the execution of the program  and print program finished. \"\"\""
   ]
  },
  {
   "cell_type": "code",
   "execution_count": 2,
   "id": "757bdf61",
   "metadata": {},
   "outputs": [],
   "source": [
    "s= 'python'"
   ]
  },
  {
   "cell_type": "code",
   "execution_count": 4,
   "id": "ae654ffc",
   "metadata": {},
   "outputs": [
    {
     "name": "stdout",
     "output_type": "stream",
     "text": [
      "\t It contains value p\n",
      "\t It contains value y\n",
      "\t It contains value t\n",
      "\t It contains value h\n",
      "\t program finished\n"
     ]
    }
   ],
   "source": [
    "for val in s:\n",
    "    if(val=='o' or val=='O'):\n",
    "        break\n",
    "    else:\n",
    "        print('\\t It contains value {}'.format(val))\n",
    "print(\"\\t program finished\")"
   ]
  },
  {
   "cell_type": "code",
   "execution_count": null,
   "id": "12635862",
   "metadata": {},
   "outputs": [],
   "source": []
  },
  {
   "cell_type": "code",
   "execution_count": null,
   "id": "ef3009cb",
   "metadata": {},
   "outputs": [],
   "source": []
  },
  {
   "cell_type": "code",
   "execution_count": null,
   "id": "711c2a64",
   "metadata": {},
   "outputs": [],
   "source": []
  },
  {
   "cell_type": "code",
   "execution_count": null,
   "id": "8d7ebe5d",
   "metadata": {},
   "outputs": [],
   "source": []
  },
  {
   "cell_type": "code",
   "execution_count": null,
   "id": "b0a89629",
   "metadata": {},
   "outputs": [],
   "source": []
  },
  {
   "cell_type": "code",
   "execution_count": null,
   "id": "6120cfe4",
   "metadata": {},
   "outputs": [],
   "source": []
  },
  {
   "cell_type": "code",
   "execution_count": null,
   "id": "35d14813",
   "metadata": {},
   "outputs": [],
   "source": []
  },
  {
   "cell_type": "code",
   "execution_count": null,
   "id": "a541ca5e",
   "metadata": {},
   "outputs": [],
   "source": []
  }
 ],
 "metadata": {
  "kernelspec": {
   "display_name": "Python 3 (ipykernel)",
   "language": "python",
   "name": "python3"
  },
  "language_info": {
   "codemirror_mode": {
    "name": "ipython",
    "version": 3
   },
   "file_extension": ".py",
   "mimetype": "text/x-python",
   "name": "python",
   "nbconvert_exporter": "python",
   "pygments_lexer": "ipython3",
   "version": "3.10.9"
  }
 },
 "nbformat": 4,
 "nbformat_minor": 5
}
